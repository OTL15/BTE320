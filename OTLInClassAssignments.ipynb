{
  "cells": [
    {
      "cell_type": "markdown",
      "metadata": {
        "id": "view-in-github",
        "colab_type": "text"
      },
      "source": [
        "<a href=\"https://colab.research.google.com/github/OTL15/BTE320/blob/main/OTLInClassAssignments.ipynb\" target=\"_parent\"><img src=\"https://colab.research.google.com/assets/colab-badge.svg\" alt=\"Open In Colab\"/></a>"
      ]
    },
    {
      "cell_type": "markdown",
      "metadata": {
        "id": "gHO7DFCYCzuP"
      },
      "source": [
        "1. Shape Area Calculator"
      ]
    },
    {
      "cell_type": "code",
      "execution_count": null,
      "metadata": {
        "colab": {
          "base_uri": "https://localhost:8080/"
        },
        "id": "lCYMIK6KCptQ",
        "outputId": "fbda3294-052a-4cac-ea82-d60796b3c3a2"
      },
      "outputs": [
        {
          "name": "stdout",
          "output_type": "stream",
          "text": [
            "244.92000000000002\n"
          ]
        }
      ],
      "source": [
        "pi = 3.14\n",
        "radius = 3 # radius of circle\n",
        "height = 10 # height of cylinder\n",
        "\n",
        "# Calculate Surface Area\n",
        "SA = 2*pi*radius**2 + 2*pi*radius*height\n",
        "# Display result\n",
        "print(SA)"
      ]
    },
    {
      "cell_type": "markdown",
      "metadata": {
        "id": "jOapNSTULf4u"
      },
      "source": [
        "2. Rock-paper-scissors (with the while loop)"
      ]
    },
    {
      "cell_type": "code",
      "execution_count": null,
      "metadata": {
        "colab": {
          "base_uri": "https://localhost:8080/"
        },
        "id": "MMDffzb2Loe-",
        "outputId": "dca8586a-6286-428b-8409-1a415c42be2d"
      },
      "outputs": [
        {
          "name": "stdout",
          "output_type": "stream",
          "text": [
            "Do you want to play a game of rock, paper, scissors? (Yes or No). No\n",
            "Come play another time!\n"
          ]
        }
      ],
      "source": [
        "import random\n",
        "choice = input('Do you want to play a game of rock, paper, scissors? (Yes or No). ')\n",
        "if choice == 'No':\n",
        "  print('Come play another time!')\n",
        "\n",
        "while choice == 'Yes':\n",
        "  p1 = input('Player 1--> Choose Rock, Paper, or Scissors:  ')\n",
        "  p2 = random.choice(['Rock', 'Paper', 'Scissors'])\n",
        "  print(f'Computer chose {p2}')\n",
        "\n",
        "  if p1 == p2:\n",
        "    print('Draw')\n",
        "  elif ((p1 == 'Rock' and p2 == 'Scissors') or\n",
        "    (p1 == 'Scissors' and p2 == 'Paper') or\n",
        "    (p1 == 'Paper' and p2 == 'Rock')):\n",
        "    print('Player 1 wins')\n",
        "  else:\n",
        "    print('Computer wins!')\n",
        "  choice = input('Do you want to play a game? (Yes or No). ')"
      ]
    },
    {
      "cell_type": "markdown",
      "metadata": {
        "id": "Ow-TA9c0Wy5Z"
      },
      "source": [
        "3. Numerical calculator"
      ]
    },
    {
      "cell_type": "code",
      "execution_count": null,
      "metadata": {
        "colab": {
          "base_uri": "https://localhost:8080/"
        },
        "id": "vvz8Ih6MW19I",
        "outputId": "b2d30219-69e2-48ba-9a19-a9555a10bb55"
      },
      "outputs": [
        {
          "name": "stdout",
          "output_type": "stream",
          "text": [
            "Enter numbers into the calculator\n",
            "n1 = 5\n",
            "symbol (+, -, *, /, **): **\n",
            "n2 = 3\n",
            "125.0\n"
          ]
        }
      ],
      "source": [
        "print('Enter numbers into the calculator')\n",
        "\n",
        "n1 = float(input('n1 = '))\n",
        "symbol = str(input('symbol (+, -, *, /, **): '))\n",
        "n2 = float(input('n2 = '))\n",
        "\n",
        "if symbol == '+':\n",
        "  print(n1 + n2)\n",
        "elif symbol == '-':\n",
        "  print(n1 - n2)\n",
        "elif symbol == '*':\n",
        "  print(n1 * n2)\n",
        "elif symbol == '/':\n",
        "  print(n1 / n2)\n",
        "elif symbol == '**':\n",
        "  print(n1 ** n2)"
      ]
    },
    {
      "cell_type": "markdown",
      "metadata": {
        "id": "kfbaU3uWcmoh"
      },
      "source": [
        "4. Parking Garage"
      ]
    },
    {
      "cell_type": "code",
      "execution_count": null,
      "metadata": {
        "colab": {
          "base_uri": "https://localhost:8080/"
        },
        "id": "h5DaWK6McuGv",
        "outputId": "dbef83fb-70c2-4873-8b0b-1a41054d63cd"
      },
      "outputs": [
        {
          "name": "stdout",
          "output_type": "stream",
          "text": [
            "1 10.0\n",
            "2 10.0\n",
            "3 12.5\n",
            "4 15.0\n",
            "5 17.5\n",
            "6 20.0\n",
            "7 20.0\n",
            "8 20.0\n"
          ]
        }
      ],
      "source": [
        "flatRate = 5\n",
        "hourlyRate = 2.5\n",
        "\n",
        "for hour in range(1,9,1):\n",
        "  charge = flatRate + hourlyRate * hour\n",
        "  if charge<10:\n",
        "    charge=10.0\n",
        "  elif charge>20:\n",
        "    charge=20.0\n",
        "  print(hour,charge)"
      ]
    },
    {
      "cell_type": "markdown",
      "metadata": {
        "id": "kmasBSiWkyAI"
      },
      "source": [
        "5. Movie Theater"
      ]
    },
    {
      "cell_type": "code",
      "execution_count": null,
      "metadata": {
        "colab": {
          "base_uri": "https://localhost:8080/"
        },
        "id": "Z1_3EKPek2Ao",
        "outputId": "dce4a738-f077-4412-b4c8-a2b57fa9cc8a"
      },
      "outputs": [
        {
          "name": "stdout",
          "output_type": "stream",
          "text": [
            "0 0.0\n",
            "25 75.0\n",
            "50 91.42135623730951\n",
            "75 98.20508075688781\n",
            "100 100.0\n",
            "125 98.60679774997897\n",
            "150 94.94897427831779\n",
            "175 89.57513110645903\n",
            "200 82.84271247461902\n"
          ]
        }
      ],
      "source": [
        "for ad in range(0,201,25):\n",
        "  additional = 2 * (ad**0.5)\n",
        "  profit = (20+additional)*10-200-ad\n",
        "  print(ad,profit)"
      ]
    },
    {
      "cell_type": "markdown",
      "metadata": {
        "id": "kI-lrTGsmPP-"
      },
      "source": [
        "6. Inputs until 0"
      ]
    },
    {
      "cell_type": "code",
      "execution_count": 16,
      "metadata": {
        "colab": {
          "base_uri": "https://localhost:8080/"
        },
        "id": "Po9KbqEPmWCb",
        "outputId": "d667e9b0-f864-43b7-aae3-f75d5b40b787"
      },
      "outputs": [
        {
          "output_type": "stream",
          "name": "stdout",
          "text": [
            "To play the game you must input integers. To end the game you must input the correct integer.\n",
            "Input an integer: 1\n",
            "[1]\n",
            "Input an integer: 2\n",
            "[1, 2]\n",
            "Input an integer: 5\n",
            "[1, 2, 5]\n",
            "Input an integer: 0\n",
            "Game Over\n"
          ]
        }
      ],
      "source": [
        "print('To play the game you must input integers. To end the game you must input the correct integer.')\n",
        "\n",
        "L = []\n",
        "\n",
        "Item = int(input('Input an integer: '))\n",
        "while Item != 0:\n",
        "    L.append(Item)\n",
        "    print(L)\n",
        "    Item = int(input('Input an integer: '))\n",
        "print('Game Over')"
      ]
    },
    {
      "cell_type": "markdown",
      "source": [
        "7. Months, Names, and Numbers"
      ],
      "metadata": {
        "id": "x7z8erZ_aNbl"
      }
    },
    {
      "cell_type": "code",
      "source": [
        "months = {}\n",
        "\n",
        "names = ['Jan', 'Feb', 'Mar', 'Apr', 'May', 'Jun', 'Jul', 'Aug', 'Sep', 'Oct', 'Nov', 'Dec']\n",
        "numbers = [1,2,3,4,5,6,7,8,9,10,11,12]\n",
        "\n",
        "for i in range(len(names)):\n",
        "  months[numbers[i]] = names[i]\n",
        "months"
      ],
      "metadata": {
        "colab": {
          "base_uri": "https://localhost:8080/"
        },
        "id": "GFyVzUOHWI8v",
        "outputId": "0e3deaf5-9e59-45eb-b95e-ab9aaeb60a03"
      },
      "execution_count": 17,
      "outputs": [
        {
          "output_type": "execute_result",
          "data": {
            "text/plain": [
              "{1: 'Jan',\n",
              " 2: 'Feb',\n",
              " 3: 'Mar',\n",
              " 4: 'Apr',\n",
              " 5: 'May',\n",
              " 6: 'Jun',\n",
              " 7: 'Jul',\n",
              " 8: 'Aug',\n",
              " 9: 'Sep',\n",
              " 10: 'Oct',\n",
              " 11: 'Nov',\n",
              " 12: 'Dec'}"
            ]
          },
          "metadata": {},
          "execution_count": 17
        }
      ]
    }
  ],
  "metadata": {
    "colab": {
      "provenance": [],
      "authorship_tag": "ABX9TyPqFXLv1he3drNqwcN1EXrq",
      "include_colab_link": true
    },
    "kernelspec": {
      "display_name": "Python 3",
      "name": "python3"
    },
    "language_info": {
      "name": "python"
    }
  },
  "nbformat": 4,
  "nbformat_minor": 0
}