{
  "cells": [
    {
      "cell_type": "markdown",
      "metadata": {
        "id": "view-in-github",
        "colab_type": "text"
      },
      "source": [
        "<a href=\"https://colab.research.google.com/github/OTL15/BTE320/blob/main/OTLInClassAssignments.ipynb\" target=\"_parent\"><img src=\"https://colab.research.google.com/assets/colab-badge.svg\" alt=\"Open In Colab\"/></a>"
      ]
    },
    {
      "cell_type": "markdown",
      "metadata": {
        "id": "gHO7DFCYCzuP"
      },
      "source": [
        "1. Shape Area Calculator"
      ]
    },
    {
      "cell_type": "code",
      "execution_count": null,
      "metadata": {
        "colab": {
          "base_uri": "https://localhost:8080/"
        },
        "id": "lCYMIK6KCptQ",
        "outputId": "fbda3294-052a-4cac-ea82-d60796b3c3a2"
      },
      "outputs": [
        {
          "name": "stdout",
          "output_type": "stream",
          "text": [
            "244.92000000000002\n"
          ]
        }
      ],
      "source": [
        "pi = 3.14\n",
        "radius = 3 # radius of circle\n",
        "height = 10 # height of cylinder\n",
        "\n",
        "# Calculate Surface Area\n",
        "SA = 2*pi*radius**2 + 2*pi*radius*height\n",
        "# Display result\n",
        "print(SA)"
      ]
    },
    {
      "cell_type": "markdown",
      "metadata": {
        "id": "jOapNSTULf4u"
      },
      "source": [
        "2. Rock-paper-scissors (with the while loop)"
      ]
    },
    {
      "cell_type": "code",
      "execution_count": null,
      "metadata": {
        "colab": {
          "base_uri": "https://localhost:8080/"
        },
        "id": "MMDffzb2Loe-",
        "outputId": "dca8586a-6286-428b-8409-1a415c42be2d"
      },
      "outputs": [
        {
          "name": "stdout",
          "output_type": "stream",
          "text": [
            "Do you want to play a game of rock, paper, scissors? (Yes or No). No\n",
            "Come play another time!\n"
          ]
        }
      ],
      "source": [
        "import random\n",
        "choice = input('Do you want to play a game of rock, paper, scissors? (Yes or No). ')\n",
        "if choice == 'No':\n",
        "  print('Come play another time!')\n",
        "\n",
        "while choice == 'Yes':\n",
        "  p1 = input('Player 1--> Choose Rock, Paper, or Scissors:  ')\n",
        "  p2 = random.choice(['Rock', 'Paper', 'Scissors'])\n",
        "  print(f'Computer chose {p2}')\n",
        "\n",
        "  if p1 == p2:\n",
        "    print('Draw')\n",
        "  elif ((p1 == 'Rock' and p2 == 'Scissors') or\n",
        "    (p1 == 'Scissors' and p2 == 'Paper') or\n",
        "    (p1 == 'Paper' and p2 == 'Rock')):\n",
        "    print('Player 1 wins')\n",
        "  else:\n",
        "    print('Computer wins!')\n",
        "  choice = input('Do you want to play a game? (Yes or No). ')"
      ]
    },
    {
      "cell_type": "markdown",
      "metadata": {
        "id": "Ow-TA9c0Wy5Z"
      },
      "source": [
        "3. Numerical calculator"
      ]
    },
    {
      "cell_type": "code",
      "execution_count": null,
      "metadata": {
        "colab": {
          "base_uri": "https://localhost:8080/"
        },
        "id": "vvz8Ih6MW19I",
        "outputId": "b2d30219-69e2-48ba-9a19-a9555a10bb55"
      },
      "outputs": [
        {
          "name": "stdout",
          "output_type": "stream",
          "text": [
            "Enter numbers into the calculator\n",
            "n1 = 5\n",
            "symbol (+, -, *, /, **): **\n",
            "n2 = 3\n",
            "125.0\n"
          ]
        }
      ],
      "source": [
        "print('Enter numbers into the calculator')\n",
        "\n",
        "n1 = float(input('n1 = '))\n",
        "symbol = str(input('symbol (+, -, *, /, **): '))\n",
        "n2 = float(input('n2 = '))\n",
        "\n",
        "if symbol == '+':\n",
        "  print(n1 + n2)\n",
        "elif symbol == '-':\n",
        "  print(n1 - n2)\n",
        "elif symbol == '*':\n",
        "  print(n1 * n2)\n",
        "elif symbol == '/':\n",
        "  print(n1 / n2)\n",
        "elif symbol == '**':\n",
        "  print(n1 ** n2)"
      ]
    },
    {
      "cell_type": "markdown",
      "metadata": {
        "id": "kfbaU3uWcmoh"
      },
      "source": [
        "4. Parking Garage"
      ]
    },
    {
      "cell_type": "code",
      "execution_count": null,
      "metadata": {
        "colab": {
          "base_uri": "https://localhost:8080/"
        },
        "id": "h5DaWK6McuGv",
        "outputId": "dbef83fb-70c2-4873-8b0b-1a41054d63cd"
      },
      "outputs": [
        {
          "name": "stdout",
          "output_type": "stream",
          "text": [
            "1 10.0\n",
            "2 10.0\n",
            "3 12.5\n",
            "4 15.0\n",
            "5 17.5\n",
            "6 20.0\n",
            "7 20.0\n",
            "8 20.0\n"
          ]
        }
      ],
      "source": [
        "flatRate = 5\n",
        "hourlyRate = 2.5\n",
        "\n",
        "for hour in range(1,9,1):\n",
        "  charge = flatRate + hourlyRate * hour\n",
        "  if charge<10:\n",
        "    charge=10.0\n",
        "  elif charge>20:\n",
        "    charge=20.0\n",
        "  print(hour,charge)"
      ]
    },
    {
      "cell_type": "markdown",
      "metadata": {
        "id": "kmasBSiWkyAI"
      },
      "source": [
        "5. Movie Theater"
      ]
    },
    {
      "cell_type": "code",
      "execution_count": null,
      "metadata": {
        "colab": {
          "base_uri": "https://localhost:8080/"
        },
        "id": "Z1_3EKPek2Ao",
        "outputId": "dce4a738-f077-4412-b4c8-a2b57fa9cc8a"
      },
      "outputs": [
        {
          "name": "stdout",
          "output_type": "stream",
          "text": [
            "0 0.0\n",
            "25 75.0\n",
            "50 91.42135623730951\n",
            "75 98.20508075688781\n",
            "100 100.0\n",
            "125 98.60679774997897\n",
            "150 94.94897427831779\n",
            "175 89.57513110645903\n",
            "200 82.84271247461902\n"
          ]
        }
      ],
      "source": [
        "for ad in range(0,201,25):\n",
        "  additional = 2 * (ad**0.5)\n",
        "  profit = (20+additional)*10-200-ad\n",
        "  print(ad,profit)"
      ]
    },
    {
      "cell_type": "markdown",
      "metadata": {
        "id": "kI-lrTGsmPP-"
      },
      "source": [
        "6. Inputs until 0"
      ]
    },
    {
      "cell_type": "code",
      "execution_count": null,
      "metadata": {
        "colab": {
          "base_uri": "https://localhost:8080/"
        },
        "id": "Po9KbqEPmWCb",
        "outputId": "d667e9b0-f864-43b7-aae3-f75d5b40b787"
      },
      "outputs": [
        {
          "output_type": "stream",
          "name": "stdout",
          "text": [
            "To play the game you must input integers. To end the game you must input the correct integer.\n",
            "Input an integer: 1\n",
            "[1]\n",
            "Input an integer: 2\n",
            "[1, 2]\n",
            "Input an integer: 5\n",
            "[1, 2, 5]\n",
            "Input an integer: 0\n",
            "Game Over\n"
          ]
        }
      ],
      "source": [
        "print('To play the game you must input integers. To end the game you must input the correct integer.')\n",
        "\n",
        "L = []\n",
        "\n",
        "Item = int(input('Input an integer: '))\n",
        "while Item != 0:\n",
        "    L.append(Item)\n",
        "    print(L)\n",
        "    Item = int(input('Input an integer: '))\n",
        "print('Game Over')"
      ]
    },
    {
      "cell_type": "markdown",
      "source": [
        "6. Months2Numbers dictionary"
      ],
      "metadata": {
        "id": "x7z8erZ_aNbl"
      }
    },
    {
      "cell_type": "code",
      "source": [
        "months = {}\n",
        "\n",
        "names = ['Jan', 'Feb', 'Mar', 'Apr', 'May', 'Jun', 'Jul', 'Aug', 'Sep', 'Oct', 'Nov', 'Dec']\n",
        "numbers = [1,2,3,4,5,6,7,8,9,10,11,12]\n",
        "\n",
        "for i in range(len(names)):\n",
        "  months[numbers[i]] = names[i]\n",
        "months"
      ],
      "metadata": {
        "colab": {
          "base_uri": "https://localhost:8080/"
        },
        "id": "GFyVzUOHWI8v",
        "outputId": "0e3deaf5-9e59-45eb-b95e-ab9aaeb60a03"
      },
      "execution_count": null,
      "outputs": [
        {
          "output_type": "execute_result",
          "data": {
            "text/plain": [
              "{1: 'Jan',\n",
              " 2: 'Feb',\n",
              " 3: 'Mar',\n",
              " 4: 'Apr',\n",
              " 5: 'May',\n",
              " 6: 'Jun',\n",
              " 7: 'Jul',\n",
              " 8: 'Aug',\n",
              " 9: 'Sep',\n",
              " 10: 'Oct',\n",
              " 11: 'Nov',\n",
              " 12: 'Dec'}"
            ]
          },
          "metadata": {},
          "execution_count": 17
        }
      ]
    },
    {
      "cell_type": "markdown",
      "source": [
        "8. House Hunting"
      ],
      "metadata": {
        "id": "DFWVAmXf4Hbo"
      }
    },
    {
      "cell_type": "code",
      "source": [
        "portion_down_payment = 0.25\n",
        "current_savings = 0\n",
        "r = .04\n",
        "months = 0\n",
        "annual_salary = float(input(\"Enter your annual salary: \"))\n",
        "portion_saved = float(input(\"Enter the percent of your salary to save, as decimal: \"))\n",
        "total_cost = float(input(\"Enter the cost of your dream home: \"))\n",
        "while current_savings < (total_cost*portion_down_payment):\n",
        "  current_savings += (current_savings*r/12)\n",
        "  current_savings = current_savings+((annual_salary/12)*portion_saved)\n",
        "  months = months + 1\n",
        "print(\"Number of Months:\", months)"
      ],
      "metadata": {
        "id": "u4l51TI74Ky8",
        "colab": {
          "base_uri": "https://localhost:8080/"
        },
        "outputId": "ef7ed920-88b5-499d-efcd-c1f0fc685d59"
      },
      "execution_count": null,
      "outputs": [
        {
          "output_type": "stream",
          "name": "stdout",
          "text": [
            "Enter your annual salary: 100000\n",
            "Enter the percent of your salary to save, as decimal: 0.1\n",
            "Enter the cost of your dream home: 800000\n",
            "Number of Months: 177\n"
          ]
        }
      ]
    },
    {
      "cell_type": "markdown",
      "source": [
        "9. Saving with raise"
      ],
      "metadata": {
        "id": "GpiijHTb4LLm"
      }
    },
    {
      "cell_type": "code",
      "source": [
        "portion_down_payment = 0.25\n",
        "current_savings = 0\n",
        "r = .04\n",
        "months = 0\n",
        "annual_salary = float(input(\"Enter your annual salary: \"))\n",
        "portion_saved = float(input(\"Enter the percent of your salary to save, as decimal: \"))\n",
        "total_cost = float(input(\"Enter the cost of your dream home: \"))\n",
        "semi_annual_raise = float(input(\"Enter semi annual raise: \"))\n",
        "while current_savings < (total_cost*portion_down_payment):\n",
        "  current_savings += (current_savings*r/12)\n",
        "  current_savings = current_savings+((annual_salary/12)*portion_saved)\n",
        "  months = months + 1\n",
        "  if months%6 == 0:\n",
        "    annual_salary = annual_salary+(annual_salary * semi_annual_raise)\n",
        "print(\"Number of Months: \", months)"
      ],
      "metadata": {
        "id": "q-Y4g0AP4Ow7",
        "colab": {
          "base_uri": "https://localhost:8080/"
        },
        "outputId": "a0d87c79-e3a1-4c55-af27-0b3d0e48a286"
      },
      "execution_count": null,
      "outputs": [
        {
          "output_type": "stream",
          "name": "stdout",
          "text": [
            "Enter your annual salary: 100000\n",
            "Enter the percent of your salary to save, as decimal: 0.1\n",
            "Enter the cost of your dream home: 800000\n",
            "Enter semi annual raise2500\n",
            "Number of Months:  7\n"
          ]
        }
      ]
    },
    {
      "cell_type": "markdown",
      "source": [
        "10. Check if a number is within range"
      ],
      "metadata": {
        "id": "DlKuNTEa4PI_"
      }
    },
    {
      "cell_type": "code",
      "source": [
        "def range_check (high, low, value):\n",
        "  if value > low and value < high:\n",
        "    print(f\"This value ({value}) is within range{low,high}\")\n",
        "  else:\n",
        "    print(f\"This value ({value}) is not within the range{low,high}\")\n",
        "\n",
        "range_check(10,2,11)"
      ],
      "metadata": {
        "id": "wf-LBoH04SrA",
        "colab": {
          "base_uri": "https://localhost:8080/"
        },
        "outputId": "7d058e9a-2d4d-4850-c393-a7ea9f6422ea"
      },
      "execution_count": null,
      "outputs": [
        {
          "output_type": "stream",
          "name": "stdout",
          "text": [
            "This value (11) is not within the range(2, 10)\n"
          ]
        }
      ]
    },
    {
      "cell_type": "markdown",
      "source": [
        "11. Parking Garage 2"
      ],
      "metadata": {
        "id": "jpKLXyW0cIFV"
      }
    },
    {
      "cell_type": "code",
      "source": [
        "def calcFee(hours):\n",
        "  fee = 5 + hours * 2.5\n",
        "  return fee\n",
        "\n",
        "hours_parked = int(input('Enter hours for parking: '))\n",
        "f = calcFee(hours_parked)\n",
        "print(f)"
      ],
      "metadata": {
        "colab": {
          "base_uri": "https://localhost:8080/"
        },
        "id": "kfLK0nYbcSYT",
        "outputId": "8cc6dcd8-202d-4691-86ae-b2b1d23cf9a2"
      },
      "execution_count": null,
      "outputs": [
        {
          "output_type": "stream",
          "name": "stdout",
          "text": [
            "Enter hours for parking: 5\n",
            "17.5\n"
          ]
        }
      ]
    },
    {
      "cell_type": "markdown",
      "source": [
        "12. Parking Garage 3"
      ],
      "metadata": {
        "id": "YRuRHYlqjYQ3"
      }
    },
    {
      "cell_type": "code",
      "source": [
        "def displayFee(fee):\n",
        "  print(fee)\n",
        "\n",
        "def calcFee(hours, decimals=2):\n",
        "  fee = 5 + hours * 2.5\n",
        "  return fee\n",
        "\n",
        "hours_parked = int(input('Enter hours for parking: '))\n",
        "f = calcFee(hours_parked)\n",
        "displayFee(f)"
      ],
      "metadata": {
        "colab": {
          "base_uri": "https://localhost:8080/"
        },
        "id": "0a9lgvEtjTwl",
        "outputId": "3f561c1a-72ac-43b1-e338-65dad8496b53"
      },
      "execution_count": null,
      "outputs": [
        {
          "output_type": "stream",
          "name": "stdout",
          "text": [
            "Enter hours for parking: 10\n",
            "30.0\n"
          ]
        }
      ]
    },
    {
      "cell_type": "markdown",
      "source": [
        "8. Reverse function (recursion)"
      ],
      "metadata": {
        "id": "PjzKguEEkv23"
      }
    },
    {
      "cell_type": "code",
      "source": [
        "def rev(s):\n",
        "  if len(s) == 1:\n",
        "    return s\n",
        "  else:\n",
        "    return rev(s[1:]) + s[0]\n",
        "\n",
        "rev('Monday')"
      ],
      "metadata": {
        "colab": {
          "base_uri": "https://localhost:8080/",
          "height": 35
        },
        "id": "49ypGyuAkyoB",
        "outputId": "6d2c812a-8497-4117-9e34-ce5aafa4f1b4"
      },
      "execution_count": null,
      "outputs": [
        {
          "output_type": "execute_result",
          "data": {
            "text/plain": [
              "'yadnoM'"
            ],
            "application/vnd.google.colaboratory.intrinsic+json": {
              "type": "string"
            }
          },
          "metadata": {},
          "execution_count": 17
        }
      ]
    },
    {
      "cell_type": "markdown",
      "source": [
        "9. Weighted Average"
      ],
      "metadata": {
        "id": "FDNt7FLT9_h8"
      }
    },
    {
      "cell_type": "code",
      "source": [
        "def wAvg(L, w):\n",
        "  res = []\n",
        "  try:\n",
        "    for i in range(len(L)):\n",
        "      res.append(L[i] * w[i])\n",
        "    return sum(res) / sum(w)\n",
        "  except ZeroDivisionError:\n",
        "    print(\"Division by zero.\")\n",
        "    return[]\n",
        "  except TypeError:\n",
        "    print(\"Non-Numerical objects found.\")\n",
        "    return[]\n",
        "  except Exception as e:\n",
        "    print(f'Unknown error: (e)')\n",
        "    return float('nan')\n",
        "\n",
        "wAvg([1,2,3], [.1,.3,.4])"
      ],
      "metadata": {
        "colab": {
          "base_uri": "https://localhost:8080/"
        },
        "id": "THjF8wh--CMP",
        "outputId": "5a8ea043-f82e-441b-fa77-497446bdb852"
      },
      "execution_count": null,
      "outputs": [
        {
          "output_type": "execute_result",
          "data": {
            "text/plain": [
              "2.375"
            ]
          },
          "metadata": {},
          "execution_count": 2
        }
      ]
    },
    {
      "cell_type": "markdown",
      "source": [
        "10. Classes"
      ],
      "metadata": {
        "id": "DeiTR1rR3DdW"
      }
    },
    {
      "cell_type": "code",
      "source": [
        "class Student:\n",
        "  def __init__(self, name, number):\n",
        "    self.name = name\n",
        "    self.number = number\n",
        "\n",
        "  def __str__(self):\n",
        "    return f'Name: {self.name}.'\n",
        "\n",
        "s1 = Student(\"James Bond\", \"007\")\n",
        "s2 = Student(\"Clark Kent\", \"333\")\n",
        "\n",
        "print(s1)"
      ],
      "metadata": {
        "colab": {
          "base_uri": "https://localhost:8080/"
        },
        "id": "ylybWWjS3Gq1",
        "outputId": "f1908d78-b01b-4379-bc6e-afad84444fbc"
      },
      "execution_count": null,
      "outputs": [
        {
          "output_type": "stream",
          "name": "stdout",
          "text": [
            "Name: James Bond.\n"
          ]
        }
      ]
    },
    {
      "cell_type": "markdown",
      "source": [
        "Not sure if this one counts but, 1.b Class&Attribute"
      ],
      "metadata": {
        "id": "eqTpHfHmLZGE"
      }
    },
    {
      "cell_type": "code",
      "source": [
        "class Student:\n",
        "  def __init__(self, name, number):\n",
        "    self.name = name\n",
        "    self.number = number\n",
        "    self.__courses = []\n",
        "\n",
        "  def enroll(self,course):\n",
        "    if course not in self.__courses:\n",
        "      self.__courses.append(course)\n",
        "    else:\n",
        "      print(f'You have already enrolled in course: (course)')\n",
        "\n",
        "  def get_courses(self):\n",
        "    return self.__courses\n",
        "\n",
        "s = Student('Bob', '123')\n",
        "s.enroll('ABC123')\n",
        "s.enroll('ABC456')\n",
        "s.enroll('ABC789')\n",
        "\n",
        "s.get_courses()"
      ],
      "metadata": {
        "id": "AUUbcBLQMHMs",
        "colab": {
          "base_uri": "https://localhost:8080/"
        },
        "outputId": "5f12aa35-c8f6-4541-f897-cdf7d79e355c"
      },
      "execution_count": 3,
      "outputs": [
        {
          "output_type": "execute_result",
          "data": {
            "text/plain": [
              "['ABC123', 'ABC456', 'ABC789']"
            ]
          },
          "metadata": {},
          "execution_count": 3
        }
      ]
    },
    {
      "cell_type": "code",
      "source": [
        "s.enroll('ABC123')"
      ],
      "metadata": {
        "colab": {
          "base_uri": "https://localhost:8080/"
        },
        "id": "bI119yZkQG0C",
        "outputId": "28e2d018-e3a9-425a-e7ae-1b8935a52704"
      },
      "execution_count": 4,
      "outputs": [
        {
          "output_type": "stream",
          "name": "stdout",
          "text": [
            "You have already enrolled in course: (course)\n"
          ]
        }
      ]
    }
  ],
  "metadata": {
    "colab": {
      "provenance": [],
      "authorship_tag": "ABX9TyMAPTmLBft+31VePYOyGglL",
      "include_colab_link": true
    },
    "kernelspec": {
      "display_name": "Python 3",
      "name": "python3"
    },
    "language_info": {
      "name": "python"
    }
  },
  "nbformat": 4,
  "nbformat_minor": 0
}