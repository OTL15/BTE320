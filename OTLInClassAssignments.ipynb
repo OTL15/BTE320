{
  "nbformat": 4,
  "nbformat_minor": 0,
  "metadata": {
    "colab": {
      "provenance": [],
      "authorship_tag": "ABX9TyOW6UJ14NTaNZxsU7zG2/zK",
      "include_colab_link": true
    },
    "kernelspec": {
      "name": "python3",
      "display_name": "Python 3"
    },
    "language_info": {
      "name": "python"
    }
  },
  "cells": [
    {
      "cell_type": "markdown",
      "metadata": {
        "id": "view-in-github",
        "colab_type": "text"
      },
      "source": [
        "<a href=\"https://colab.research.google.com/github/OTL15/BTE320/blob/main/OTLInClassAssignments.ipynb\" target=\"_parent\"><img src=\"https://colab.research.google.com/assets/colab-badge.svg\" alt=\"Open In Colab\"/></a>"
      ]
    },
    {
      "cell_type": "markdown",
      "source": [
        "1. Calculate the Surface Area of a Cylinder"
      ],
      "metadata": {
        "id": "gHO7DFCYCzuP"
      }
    },
    {
      "cell_type": "code",
      "execution_count": null,
      "metadata": {
        "colab": {
          "base_uri": "https://localhost:8080/"
        },
        "id": "lCYMIK6KCptQ",
        "outputId": "fbda3294-052a-4cac-ea82-d60796b3c3a2"
      },
      "outputs": [
        {
          "output_type": "stream",
          "name": "stdout",
          "text": [
            "244.92000000000002\n"
          ]
        }
      ],
      "source": [
        "pi = 3.14\n",
        "radius = 3 # radius of circle\n",
        "height = 10 # height of cylinder\n",
        "\n",
        "# Calculate Surface Area\n",
        "SA = 2*pi*radius**2 + 2*pi*radius*height\n",
        "# Display result\n",
        "print(SA)"
      ]
    },
    {
      "cell_type": "markdown",
      "source": [
        "2. Code a Game of Rock, Paper, Scissors"
      ],
      "metadata": {
        "id": "jOapNSTULf4u"
      }
    },
    {
      "cell_type": "code",
      "source": [
        "import random\n",
        "choice = input('Do you want to play a game of rock, paper, scissors? (Yes or No). ')\n",
        "if choice == 'No':\n",
        "  print('Come play another time!')\n",
        "\n",
        "while choice == 'Yes':\n",
        "  p1 = input('Player 1--> Choose Rock, Paper, or Scissors:  ')\n",
        "  p2 = random.choice(['Rock', 'Paper', 'Scissors'])\n",
        "  print(f'Computer chose {p2}')\n",
        "\n",
        "  if p1 == p2:\n",
        "    print('Draw')\n",
        "  elif ((p1 == 'Rock' and p2 == 'Scissors') or\n",
        "    (p1 == 'Scissors' and p2 == 'Paper') or\n",
        "    (p1 == 'Paper' and p2 == 'Rock')):\n",
        "    print('Player 1 wins')\n",
        "  else:\n",
        "    print('Computer wins!')\n",
        "  choice = input('Do you want to play a game? (Yes or No). ')"
      ],
      "metadata": {
        "colab": {
          "base_uri": "https://localhost:8080/"
        },
        "id": "MMDffzb2Loe-",
        "outputId": "dca8586a-6286-428b-8409-1a415c42be2d"
      },
      "execution_count": 16,
      "outputs": [
        {
          "output_type": "stream",
          "name": "stdout",
          "text": [
            "Do you want to play a game of rock, paper, scissors? (Yes or No). No\n",
            "Come play another time!\n"
          ]
        }
      ]
    },
    {
      "cell_type": "markdown",
      "source": [
        "3. Create a Calculator"
      ],
      "metadata": {
        "id": "Ow-TA9c0Wy5Z"
      }
    },
    {
      "cell_type": "code",
      "source": [
        "print('Enter numbers into the calculator')\n",
        "\n",
        "n1 = float(input('n1 = '))\n",
        "symbol = str(input('symbol (+, -, *, /, **): '))\n",
        "n2 = float(input('n2 = '))\n",
        "\n",
        "if symbol == '+':\n",
        "  print(n1 + n2)\n",
        "elif symbol == '-':\n",
        "  print(n1 - n2)\n",
        "elif symbol == '*':\n",
        "  print(n1 * n2)\n",
        "elif symbol == '/':\n",
        "  print(n1 / n2)\n",
        "elif symbol == '**':\n",
        "  print(n1 ** n2)"
      ],
      "metadata": {
        "colab": {
          "base_uri": "https://localhost:8080/"
        },
        "id": "vvz8Ih6MW19I",
        "outputId": "b2d30219-69e2-48ba-9a19-a9555a10bb55"
      },
      "execution_count": null,
      "outputs": [
        {
          "output_type": "stream",
          "name": "stdout",
          "text": [
            "Enter numbers into the calculator\n",
            "n1 = 5\n",
            "symbol (+, -, *, /, **): **\n",
            "n2 = 3\n",
            "125.0\n"
          ]
        }
      ]
    }
  ]
}